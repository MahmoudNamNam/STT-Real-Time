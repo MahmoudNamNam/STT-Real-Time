{
 "cells": [
  {
   "cell_type": "markdown",
   "metadata": {},
   "source": [
    "## 1. Google's SpeechRecognition library for MSA `Real Time`\n"
   ]
  },
  {
   "cell_type": "code",
   "execution_count": null,
   "metadata": {},
   "outputs": [],
   "source": [
    "import speech_recognition as sr\n",
    "\n",
    "# Initialize the recognizer\n",
    "recognizer = sr.Recognizer()\n",
    "\n",
    "# Use the microphone as the audio source\n",
    "with sr.Microphone() as source:\n",
    "    print(\"Say something in Arabic (MSA)...\")\n",
    "    recognizer.adjust_for_ambient_noise(source)\n",
    "    audio = recognizer.listen(source)\n",
    "\n",
    "try:\n",
    "    # Recognize speech using Google's Speech-to-Text API\n",
    "    text = recognizer.recognize_google(audio, language=\"ar-SA\")  # ar-SA = Arabic (Saudi Arabia, MSA)\n",
    "    print(\"You said:\", text)\n",
    "except sr.UnknownValueError:\n",
    "    print(\"Sorry, could not understand the audio.\")\n",
    "except sr.RequestError:\n",
    "    print(\"Could not request results, check your internet connection.\")\n",
    "\n"
   ]
  },
  {
   "cell_type": "markdown",
   "metadata": {},
   "source": [
    "### 1.1 Google's SpeechRecognition library for MSA `With a pre-recorded audio file`\n"
   ]
  },
  {
   "cell_type": "code",
   "execution_count": null,
   "metadata": {},
   "outputs": [],
   "source": [
    "import speech_recognition as sr\n",
    "from pydub import AudioSegment\n",
    "import os\n",
    "\n",
    "def convert_to_wav(audio_path):\n",
    "    \"\"\"Convert non-WAV audio files to WAV format\"\"\"\n",
    "    if not audio_path.lower().endswith(\".wav\"):\n",
    "        print(\"Converting audio to WAV format...\")\n",
    "        audio = AudioSegment.from_file(audio_path)\n",
    "        new_path = audio_path.rsplit(\".\", 1)[0] + \".wav\"\n",
    "        audio.export(new_path, format=\"wav\")\n",
    "        return new_path\n",
    "    return audio_path\n",
    "\n",
    "def speech_to_text(audio_path):\n",
    "    \"\"\"Convert speech in an audio file to text using Google STT\"\"\"\n",
    "    recognizer = sr.Recognizer()\n",
    "    \n",
    "    # Convert if not WAV\n",
    "    wav_path = convert_to_wav(audio_path)\n",
    "\n",
    "    with sr.AudioFile(wav_path) as source:\n",
    "        print(\"Processing the audio file...\")\n",
    "        audio = recognizer.record(source)\n",
    "\n",
    "    try:\n",
    "        text = recognizer.recognize_google(audio, language=\"ar-SA\")  # Arabic (MSA)\n",
    "        print(\"Recognized Text:\", text)\n",
    "    except sr.UnknownValueError:\n",
    "        print(\"Sorry, could not understand the audio.\")\n",
    "    except sr.RequestError:\n",
    "        print(\"API request failed, check your internet connection.\")\n",
    "\n",
    "    # Delete the converted WAV file if it was originally a different format\n",
    "    if wav_path != audio_path:\n",
    "        os.remove(wav_path)\n",
    "\n",
    "# Example usage\n",
    "audio_file = \"sample_audio.wav\"  #  (MP3, M4A, WAV, etc.)\n",
    "speech_to_text(audio_file)\n"
   ]
  }
 ],
 "metadata": {
  "kernelspec": {
   "display_name": "pytorch_env",
   "language": "python",
   "name": "python3"
  },
  "language_info": {
   "codemirror_mode": {
    "name": "ipython",
    "version": 3
   },
   "file_extension": ".py",
   "mimetype": "text/x-python",
   "name": "python",
   "nbconvert_exporter": "python",
   "pygments_lexer": "ipython3",
   "version": "3.12.3"
  }
 },
 "nbformat": 4,
 "nbformat_minor": 2
}
